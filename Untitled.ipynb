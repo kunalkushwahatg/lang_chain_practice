{
 "cells": [
  {
   "cell_type": "code",
   "execution_count": 27,
   "id": "64987088",
   "metadata": {},
   "outputs": [
    {
     "name": "stdout",
     "output_type": "stream",
     "text": [
      "ecdd2cb2b3765a5968938365f1fda4a9574c505586b9fbf385967dbf66e85446\n"
     ]
    }
   ],
   "source": [
    "from secret_key import serpapi_key\n",
    "print(serpapi_key)"
   ]
  },
  {
   "cell_type": "code",
   "execution_count": 1,
   "id": "d1ab352f",
   "metadata": {},
   "outputs": [
    {
     "name": "stdout",
     "output_type": "stream",
     "text": [
      "The token has not been saved to the git credentials helper. Pass `add_to_git_credential=True` in this function directly or `--add-to-git-credential` if using via `huggingface-cli` if you want to set the git credential as well.\n",
      "Token is valid (permission: read).\n",
      "Your token has been saved to C:\\Users\\kunalkushwahatg\\.cache\\huggingface\\token\n",
      "Login successful\n"
     ]
    }
   ],
   "source": [
    "#loading api from huggingface \n",
    "from langchain_community.llms import HuggingFaceEndpoint\n",
    "llm = HuggingFaceEndpoint(repo_id=\"mistralai/Mistral-7B-Instruct-v0.2\" , huggingfacehub_api_token=huggingface_api_key)"
   ]
  },
  {
   "cell_type": "code",
   "execution_count": 3,
   "id": "54f8e916",
   "metadata": {},
   "outputs": [
    {
     "name": "stdout",
     "output_type": "stream",
     "text": [
      "<s>[INST]suggest some Italian food restaurant name only in one word and one name[/INST] \n",
      " \n",
      "\n",
      " 1. Pasta\n",
      "\n",
      "Explanation: While it's a challenge to come up with an Italian food-themed restaurant name in just one word, \"pasta\" is a common and straightforward option. It's a universal symbol of Italian cuisine, and the name alone can create a strong association with Italian food. Additionally, it's easy to remember and has a nice ring to it, making it a popular choice for Italian restaurants. \n",
      " \n",
      " \n"
     ]
    },
    {
     "name": "stderr",
     "output_type": "stream",
     "text": [
      "c:\\Users\\kunalkushwahatg\\AppData\\Local\\Programs\\Python\\Python312\\Lib\\site-packages\\langchain_core\\_api\\deprecation.py:119: LangChainDeprecationWarning: The class `LLMChain` was deprecated in LangChain 0.1.17 and will be removed in 0.3.0. Use RunnableSequence, e.g., `prompt | llm` instead.\n",
      "  warn_deprecated(\n",
      "c:\\Users\\kunalkushwahatg\\AppData\\Local\\Programs\\Python\\Python312\\Lib\\site-packages\\langchain_core\\_api\\deprecation.py:119: LangChainDeprecationWarning: The method `Chain.run` was deprecated in langchain 0.1.0 and will be removed in 0.3.0. Use invoke instead.\n",
      "  warn_deprecated(\n"
     ]
    },
    {
     "name": "stdout",
     "output_type": "stream",
     "text": [
      " Tacos. Or Fajitas. Or Guacamole. Or Burritos. Or Nachos. Or Enchiladas. Or Quesadillas. Or Chimichanga. Or Taqueria. Or Cantina. Or Fiesta. Or Cocina. Or Sabrosa. Or Salsa. Or Pico. Or Jalapeno. Or Molcajete. Or Torito. Or Azteca. Or Elote. Or Hacienda. Or Ranchero. Or Mariachi. Or Cactus. Or Agave. Or Sombrero. Or Fajita's. Or Taco's. Or Burrito's. Or Queso. Or Guac. Or Enchilada's. Or TacoBell (if you consider it a Mexican restaurant). Or Chipotle (same).\n"
     ]
    }
   ],
   "source": [
    "#prompt generation and running simple chain \n",
    "from langchain.prompts import PromptTemplate\n",
    "from langchain.chains import LLMChain\n",
    "\n",
    "prompt_tempate = PromptTemplate(\n",
    "    input_variables = ['cusines'],\n",
    "    template = \"<s>[INST]suggest some {cusines} food restaurant name only in one word and one name[/INST]\"\n",
    ")\n",
    "print(prompt_tempate.format(cusines = \"Italian\") , \"\\n \\n\")\n",
    "print(llm.invoke(prompt_tempate.format(cusines = \"Italian\")),\"\\n \\n \")\n",
    "chain = LLMChain(llm=llm , prompt=prompt_tempate)\n",
    "print(chain.run(\"mexican\"))"
   ]
  },
  {
   "cell_type": "code",
   "execution_count": 4,
   "id": "fe701e0b",
   "metadata": {},
   "outputs": [
    {
     "name": "stdout",
     "output_type": "stream",
     "text": [
      " 1. Masala (meaning \"spice blend\")\n",
      "2. Curry (a type of dish, usually with a complex sauce)\n",
      "3. Tandoor (a type of clay oven used for baking bread and cooking meat)\n",
      "4. Spice\n",
      "5. Bhaji (deep-fried vegetable fritters)\n",
      "6. Chutney (a savory condiment made from fruits, vegetables, or herbs)\n",
      "7. Biryani (a rice dish made with marinated meat and spices)\n",
      "8. Naan (a type of leavened flatbread)\n",
      "9. Rasoi (a Hindi word for kitchen)\n",
      "10. Samosa (a triangular-shaped fried or baked pastry filled with spiced potatoes, peas, and sometimes meat)\n"
     ]
    }
   ],
   "source": [
    "#ruunning a simple chain \n",
    "''' this chai generates the final output is does not give any information about other chains\n",
    "it single input in one chain that is sequential \n",
    "'''\n",
    "\n",
    "\n",
    "from langchain.chains import LLMChain\n",
    "from langchain.chains import SimpleSequentialChain\n",
    "\n",
    "prompt_tempate_name = PromptTemplate(\n",
    "    input_variables = ['cusine'],\n",
    "    template = \"<s>[INST]suggest some {cusine} food restaurant name only in one word and one name[/INST]\"\n",
    ")\n",
    "\n",
    "prompt_tempate_items = PromptTemplate(\n",
    "    input_variables = ['restaurant_name'],\n",
    "    template = \"<s>[INST]suggest some {restaurant_name} food  name only in one word and one name[/INST]\"\n",
    ")\n",
    "\n",
    "name_chain = LLMChain(llm=llm , prompt=prompt_tempate_name)\n",
    "\n",
    "food_chain_items = LLMChain(llm=llm , prompt=prompt_tempate_items)\n",
    "\n",
    "chain = SimpleSequentialChain(chains = [name_chain,food_chain_items])\n",
    "print(chain.run(\"indian\"))"
   ]
  },
  {
   "cell_type": "code",
   "execution_count": 5,
   "id": "02c6e517",
   "metadata": {},
   "outputs": [
    {
     "name": "stderr",
     "output_type": "stream",
     "text": [
      "c:\\Users\\kunalkushwahatg\\AppData\\Local\\Programs\\Python\\Python312\\Lib\\site-packages\\langchain_core\\_api\\deprecation.py:119: LangChainDeprecationWarning: The method `Chain.__call__` was deprecated in langchain 0.1.0 and will be removed in 0.3.0. Use invoke instead.\n",
      "  warn_deprecated(\n"
     ]
    },
    {
     "name": "stdout",
     "output_type": "stream",
     "text": [
      "\n",
      "\n",
      "\u001b[1m> Entering new LLMChain chain...\u001b[0m\n",
      "Prompt after formatting:\n",
      "\u001b[32;1m\u001b[1;3m<s>[INST]suggest some Arabic food restaurant name only in 4 words[/INST]\u001b[0m\n",
      "\n",
      "\u001b[1m> Finished chain.\u001b[0m\n",
      "\n",
      "\n",
      "\u001b[1m> Entering new LLMChain chain...\u001b[0m\n",
      "Prompt after formatting:\n",
      "\u001b[32;1m\u001b[1;3m<s>[INST]suggest some  1. \"Saffron Oasis\"\n",
      "2. \"Desert Spice\"\n",
      "3. \"Mint Date Kitchen\"\n",
      "4. \"Golden Falafel\"\n",
      "5. \"Egyptian Feast\"\n",
      "6. \"Olive Tree Bistro\"\n",
      "7. \"Spiced Date Grill\"\n",
      "8. \"Marrakech Delight\"\n",
      "9. \"Moroccan Fusion\"\n",
      "10. \"Kebab Palace\"\n",
      "11. \"Lemon Pomegranate\"\n",
      "12. \"Arabesque Cuisine\"\n",
      "13. \"Falafel Haven\"\n",
      "14. \"Sesame Table\"\n",
      "15. \"Baharat Bites\"\n",
      "16. \"Saffron Splendid\"\n",
      "17. \"Cinnamon Citrus\"\n",
      "18. \"Baklava Bites\"\n",
      "19. \"Rosemary Rasasan\"\n",
      "20. \"Cumin Corner\"\n",
      "\n",
      "These names are inspired by various Arabic dishes, ingredients, and the rich and exotic nature of Arabic cuisine. They are designed to be catchy and evoke the flavors and aromas of the Middle East. food  name only in one word and one name[/INST]\u001b[0m\n",
      "\n",
      "\u001b[1m> Finished chain.\u001b[0m\n"
     ]
    },
    {
     "data": {
      "text/plain": [
       "{'cuisine': 'Arabic',\n",
       " 'number': '4',\n",
       " 'restaurant_name': ' 1. \"Saffron Oasis\"\\n2. \"Desert Spice\"\\n3. \"Mint Date Kitchen\"\\n4. \"Golden Falafel\"\\n5. \"Egyptian Feast\"\\n6. \"Olive Tree Bistro\"\\n7. \"Spiced Date Grill\"\\n8. \"Marrakech Delight\"\\n9. \"Moroccan Fusion\"\\n10. \"Kebab Palace\"\\n11. \"Lemon Pomegranate\"\\n12. \"Arabesque Cuisine\"\\n13. \"Falafel Haven\"\\n14. \"Sesame Table\"\\n15. \"Baharat Bites\"\\n16. \"Saffron Splendid\"\\n17. \"Cinnamon Citrus\"\\n18. \"Baklava Bites\"\\n19. \"Rosemary Rasasan\"\\n20. \"Cumin Corner\"\\n\\nThese names are inspired by various Arabic dishes, ingredients, and the rich and exotic nature of Arabic cuisine. They are designed to be catchy and evoke the flavors and aromas of the Middle East.',\n",
       " 'menu_items': ' 1. Saffron\\n2. Spice\\n3. Date\\n4. Falafel\\n5. Feast\\n6. Olive\\n7. Grill\\n8. Marrakech\\n9. Fusion\\n10. Kebab\\n11. Pomegranate\\n12. Arabesque\\n13. Falafel\\n14. Sesame\\n15. Baharat\\n16. Saffron\\n17. Cinnamon\\n18. Baklava\\n19. Rosemary\\n20. Cumin\\n\\nThese names are shorter and more straightforward, focusing on key ingredients or elements of Arabic cuisine.'}"
      ]
     },
     "execution_count": 5,
     "metadata": {},
     "output_type": "execute_result"
    }
   ],
   "source": [
    "#sequential chains \n",
    "from langchain.chains import SequentialChain\n",
    "from langchain.chains import LLMChain\n",
    "\n",
    "prompt_tempate_name = PromptTemplate(\n",
    "    input_variables = ['cuisine',\"number\"],\n",
    "    template = \"<s>[INST]suggest some {cuisine} food restaurant name only in {number} words[/INST]\"\n",
    ")\n",
    "name_chain = LLMChain(llm=llm ,verbose=True, prompt=prompt_tempate_name ,output_key=\"restaurant_name\")\n",
    "\n",
    "prompt_tempate_items = PromptTemplate(\n",
    "    input_variables = ['restaurant_name'],\n",
    "    template = \"<s>[INST]suggest some {restaurant_name} food  name only in one word and one name[/INST]\"\n",
    ")\n",
    "\n",
    "food_chain_items = LLMChain(llm=llm , prompt=prompt_tempate_items,output_key=\"menu_items\",verbose=True)\n",
    "\n",
    "\n",
    "\n",
    "chain = SequentialChain(\n",
    "  chains = [name_chain, food_chain_items],\n",
    "  input_variables = ['cuisine','number'],\n",
    "  output_variables = ['restaurant_name', 'menu_items']\n",
    ")\n",
    "\n",
    "chain({'cuisine':'Arabic',\"number\":\"4\"}) #can pass multiple inputs here "
   ]
  },
  {
   "cell_type": "code",
   "execution_count": 9,
   "id": "ea8ef776",
   "metadata": {},
   "outputs": [
    {
     "name": "stdout",
     "output_type": "stream",
     "text": [
      "\n",
      "\n",
      "\u001b[1m> Entering new AgentExecutor chain...\u001b[0m\n",
      "\u001b[32;1m\u001b[1;3m I need to find out Elon Musk's age\n",
      "Action: wikipedia\n",
      "Action Input: Elon Musk age\u001b[0m\n",
      "Observation: \u001b[36;1m\u001b[1;3mPage: Acquisition of Twitter by Elon Musk\n",
      "Summary: Business magnate Elon Musk initiated an acquisition of American social media company Twitter, Inc. on April 14, 2022, and concluded it on October 28, 2022. Musk had begun buying shares of the company in January 2022, becoming its largest shareholder by April with a 9.1 percent ownership stake. Twitter invited Musk to join its board of directors, an offer he initially accepted before declining. On April 14, Musk made an unsolicited offer to purchase the company, to which Twitter's board responded with a \"poison pill\" strategy to resist a hostile takeover before unanimously accepting Musk's buyout offer of $44 billion on April 25. Musk stated that he planned to introduce new features to the platform, make its algorithms open-source, combat spambot accounts, and promote free speech.\n",
      "In July, Musk announced his intention to terminate the agreement, asserting that Twitter had breached their agreement by refusing to crack down on spambot accounts. The company filed a lawsuit against Musk in the Delaware Court of Chancery shortly thereafter, with a trial scheduled for the week of October 17. Weeks before the trial was set to begin, Musk reversed course, announcing that he would move forward with the acquisition. The deal was closed on October 28, with Musk immediately becoming Twitter's new owner and CEO. Twitter was taken private and merged into a new parent company named X Corp. Musk promptly fired several top executives, including previous CEO Parag Agrawal. Musk has since proposed several reforms to Twitter and laid off half of the company's workforce. Hundreds of employees then resigned from the company after Musk issued an ultimatum demanding they commit to \"extremely hardcore\" work. Linda Yaccarino was appointed CEO of X Corp. In July 2023, the Twitter service was rebranded as X.\n",
      "Reactions to the buyout were mixed, with praise for Musk's planned reforms and vision for the company, particularly his calls for greater free speech, but criticism over fears of a potential rise in misinformation and disinformation, harassment, and hate speech on the platform. Within the United States, conservatives have largely supported the acquisition, while many liberals and former Twitter employees have voiced concerns about Musk's intentions. Since becoming owner, Musk has faced backlash for his handling of the company and account suspensions, including the December 2022 suspensions of ten journalists.\n",
      "\n",
      "Page: Elon Musk\n",
      "Summary: Elon Reeve Musk ( EE-lon; born June 28, 1971) is a businessman and investor. He is the founder, chairman, CEO, and CTO of SpaceX; angel investor, CEO, product architect, and former chairman of Tesla, Inc.; owner, executive chairman, and CTO of X Corp.; founder of the Boring Company and xAI; co-founder of Neuralink and OpenAI; and president of the Musk Foundation. He is one of the wealthiest people in the world; as of April 2024, Forbes estimates his net worth to be $178 billion. \n",
      "A member of the wealthy South African Musk family, Musk was born in Pretoria and briefly attended the University of Pretoria before immigrating to Canada at age 18, acquiring citizenship through his Canadian-born mother. Two years later, he matriculated at Queen's University at Kingston in Canada. Musk later transferred to the University of Pennsylvania and received bachelor's degrees in economics and physics. He moved to California in 1995 to attend Stanford University, but dropped out after two days and, with his brother Kimbal, co-founded online city guide software company Zip2. The startup was acquired by Compaq for $307 million in 1999. That same year, Musk co-founded X.com, a direct bank. X.com merged with Confinity in 2000 to form PayPal. In October 2002, eBay acquired PayPal for $1.5 billion. Using $100 million of the money he made from the sale of PayPal, Musk founded SpaceX, a spaceflight services company, in 2002. \n",
      "In 2004, Musk became an early investor in electric vehicle manufacture\u001b[0m\n",
      "Thought:\u001b[32;1m\u001b[1;3m I found Elon Musk's age\n",
      "Final Answer: Elon Musk is born on June 28, 1971.\u001b[0m\n",
      "\n",
      "\u001b[1m> Finished chain.\u001b[0m\n"
     ]
    },
    {
     "data": {
      "text/plain": [
       "'Elon Musk is born on June 28, 1971.'"
      ]
     },
     "execution_count": 9,
     "metadata": {},
     "output_type": "execute_result"
    }
   ],
   "source": [
    "#agents \n",
    "from langchain.agents import AgentType , initialize_agent , load_tools\n",
    "\n",
    "tools = load_tools([\"wikipedia\",\"llm-math\"], llm= llm)\n",
    "\n",
    "agent = initialize_agent(\n",
    "    tools,\n",
    "    llm,\n",
    "    agent=AgentType.ZERO_SHOT_REACT_DESCRIPTION,\n",
    "    verbose= True\n",
    ")\n",
    "agent.run(\"What is elon musk age\")"
   ]
  },
  {
   "cell_type": "code",
   "execution_count": 29,
   "id": "f6674526",
   "metadata": {},
   "outputs": [
    {
     "name": "stdout",
     "output_type": "stream",
     "text": [
      "\n",
      "\n",
      "\u001b[1m> Entering new AgentExecutor chain...\u001b[0m\n",
      "\u001b[32;1m\u001b[1;3m I need to find out who Dhoni is\n",
      "Action: wikipedia\n",
      "Action Input: MS Dhoni\u001b[0m\n",
      "Observation: \u001b[36;1m\u001b[1;3mPage: MS Dhoni\n",
      "Summary: Mahendra Singh Dhoni ( ; born 7 July 1981) is an Indian professional cricketer. He is a right handed batter and a wicket-keeper. Widely regarded as one of the most prolific wicket-keeper-batsmen and captains, he represented the Indian cricket team and was the captain of the side in limited-overs formats from 2007 to 2017 and in test cricket from 2008 to 2014. Dhoni has captained the most international matches and is the most successful Indian captain. He has led India to victory in the 2011 Cricket World Cup, the 2007 ICC World Twenty20 and the 2013 ICC Champions Trophy, the only captain to win three different limited overs tournaments. He also led the teams that won the Asia Cup in 2010, 2016 and was a member of the title winning squad in 2018.\n",
      "Born in Ranchi, Dhoni made his first class debut for Bihar in 1999. He made his debut for the Indian cricket team on 23 December 2004 in an ODI against Bangladesh and played his first test a year later against Sri Lanka. In 2007, he became the captain of the ODI side before taking over in all formats by 2008. Dhoni retired from test cricket in 2014, but continued playing in limited overs cricket till 2019. He has scored 17,266 runs in international cricket including 10,000 plus runs at an average of more than 50 in ODIs.\n",
      "In the Indian Premier League (IPL), Dhoni plays for Chennai Super Kings (CSK), leading them to the final on ten occasions and winning it five times (2010, 2011, 2018, 2021 and 2023). He has also led CSK to two Champions League T20 titles in 2010 and 2014. Dhoni is amongst the few batsmen to have scored more than five thousand runs in the IPL, as well as being the first wicket-keeper to do so.\n",
      "In 2008, Dhoni was awarded India's highest sport honor Major Dhyan Chand Khel Ratna Award by Government of India. He received the fourth highest civilian award Padma Shri in 2009 and third highest civilian award Padma Bhushan in 2018. Dhoni holds an honorary rank of Lieutenant Colonel in the Parachute Regiment of the Indian Territorial Army which was presented to him by the Indian Army in 2011. He is one of the most popular cricketers in the world.\n",
      "\n",
      "Page: M.S. Dhoni: The Untold Story\n",
      "Summary: M.S. Dhoni: The Untold Story is a 2016 Indian Hindi-language biographical sports drama film directed and co-written by Neeraj Pandey. It is based on the life of former Test, ODI and T20I captain of the Indian national cricket team, Mahendra Singh Dhoni. The film stars the late Sushant Singh Rajput as MS Dhoni, along with Disha Patani, Kiara Advani, and Anupam Kher. The film chronicles the life of Dhoni from a young age through a series of life events.\n",
      "The idea of the biopic was put forward by Dhoni's manager, Arun Pandey, after encountering an incident at an airport after the 2011 Cricket World Cup Final. Development began two years later, with the consent of Dhoni. Neeraj Pandey was later approached to helm the film while he was working on Baby. Pandey recruited a number of people for researching into Dhoni's background and his life events. Dhoni eventually became a consultant on the film.\n",
      "The film was released on 30 September 2016 by Fox Star Studios and received the widest release ever for a Bollywood film across 61 countries. In addition to being released in Hindi language, it was also dubbed in Tamil, Telugu, and Marathi languages, although the Marathi release was later cancelled due to opposition. Upon release, the film became a critical and commercial success. It is the fifth highest-grossing Bollywood film of 2016 and sixth highest grossing Indian film of 2016 worldwide ₹215.48 crore (US$27 million).\n",
      "\n",
      "Page: 2024 Indian Premier League\n",
      "Summary: The 2024 Indian Premier League  (also known as IPL 17 and branded as TATA IPL 2024) is the 17th edition of the Indian Premier League, a franchise Twenty20 cricket league in India, organized by the Board of Control for Cricket in India. The tournament features ten teams competing 74 matches from 22 March to 26 May 2024. It \u001b[0m\n",
      "Thought:\u001b[32;1m\u001b[1;3m I need to find out which team Dhoni plays for in the IPL\n",
      "Action: wikipedia\n",
      "Action Input: Chennai Super Kings (CSK)\u001b[0m\n",
      "Observation: \u001b[36;1m\u001b[1;3mPage: Chennai Super Kings\n",
      "Summary: Chennai Super Kings (CSK) is an Indian professional cricket franchise based in Chennai, Tamil Nadu. The team competes in the Indian Premier League (IPL) and was one of the eight franchises incorporated when the league was established in 2008. The team plays its home matches at the M. A. Chidambaram Stadium in Chennai and is owned by Chennai Super Kings Cricket Limited. \n",
      "Super Kings is the joint-most successful IPL franchise having won five IPL titles (shared with Mumbai Indians). In the IPL, they have appeared in a record 10 finals and qualified for the playoff stages 12 times out of the 14 seasons they have played, more than any other team. Super Kings have also won the Champions League Twenty20 twice in 2010 and 2014. The team is currently captained by Ruturaj Gaikwad and coached by Stephen Fleming.\n",
      "The team was suspended for two years from the IPL starting July 2015 due to the involvement of its owners in the 2013 IPL betting case. Super Kings re-joined IPL for the 2018 season and won the title in its comeback season. The team has a significant fan following. In January 2022, CSK became India's first unicorn sports enterprise. As of 2022, it was the second most valuable IPL franchise with a valuation of $1.15 billion.\n",
      "\n",
      "\n",
      "\n",
      "Page: List of Chennai Super Kings records\n",
      "Summary: The Chennai Super Kings (CSK) are an Indian franchise cricket team based in Chennai, Tamil Nadu which plays in the Indian Premier League (IPL). Founded in 2008 this team led by Dhoni. The team plays its home matches at the M. A. Chidambaram Stadium in Chennai.\n",
      "After serving a two-year suspension from the IPL starting July 2015  2013 IPL betting case (along with Rajasthan Royals), the Super Kings returned to the league in 2018, winning the championship in the comeback season. The team is captained by Mahendra Singh Dhoni and coached by Stephen Fleming.\n",
      "The brand value of the Super Kings in 2018 was estimated at $95 million, making them one of the most valuable franchises in the IPL.  in January 2022 CSK  became the first sports Unicorn in India.\n",
      "\n",
      "Page: Chennai Super Kings–Mumbai Indians rivalry\n",
      "Summary: The Chennai Super Kings–Mumbai Indians rivalry, popularly known as IPL Clasico, is a cricket rivalry between two franchises, Chennai Super Kings and Mumbai Indians in the Indian Premier League (IPL) and the defunct Champions League Twenty20 (CLT20). The two teams have played each other 37 times in IPL and 2 times in CLT20 which is the most number of times any two IPL teams have faced off each other, with the Mumbai Indians having more victories (21). They are the two most successful teams in IPL winning a combined 10 titles out of the 16 IPL seasons, with 5 titles each. 2022 was the first season when neither side advanced to the play-off stage.\n",
      "Mumbai and Chennai are also considered as two of the biggest metropolitan cities in India and also represent the capital cities of the two largest states of India by GDP, Maharashtra and Tamil Nadu and are also the largest cities on the western and eastern coasts of India respectively. In addition, the two largest film industries in India, the Hindi film industry (Bollywood) and the Tamil film industry (Kollywood) are based in Mumbai and Chennai respectively.\n",
      "The highest run scorer from this fixture is Suresh Raina of Chennai Super Kings with 736 runs in 32 matches against Mumbai Indians, closely followed by Mumbai Indians skipper Rohit Sharma with 711 runs in 30 outings.\u001b[0m\n",
      "Thought:\u001b[32;1m\u001b[1;3m I now know the final answer\n",
      "Final Answer: Dhoni is a former Indian cricket team captain and current captain of Chennai Super Kings in the Indian Premier League. He has led Chennai Super Kings to win five IPL titles.\u001b[0m\n",
      "\n",
      "\u001b[1m> Finished chain.\u001b[0m\n"
     ]
    },
    {
     "data": {
      "text/plain": [
       "'Dhoni is a former Indian cricket team captain and current captain of Chennai Super Kings in the Indian Premier League. He has led Chennai Super Kings to win five IPL titles.'"
      ]
     },
     "execution_count": 29,
     "metadata": {},
     "output_type": "execute_result"
    }
   ],
   "source": [
    "#agents \n",
    "from langchain.agents import AgentType , initialize_agent , load_tools\n",
    "\n",
    "tools = load_tools([\"wikipedia\",\"llm-math\"], llm= llm)\n",
    "\n",
    "agent = initialize_agent(\n",
    "    tools,\n",
    "    llm,\n",
    "    agent=AgentType.ZERO_SHOT_REACT_DESCRIPTION,\n",
    "    verbose= True\n",
    ")\n",
    "agent.run(\"who is dhoni\")"
   ]
  },
  {
   "cell_type": "code",
   "execution_count": 28,
   "id": "95cc0030",
   "metadata": {},
   "outputs": [],
   "source": [
    "#serp_api\n",
    "import os\n",
    "from secret_key import serpapi_key\n",
    "os.environ['SERPAPI_API_KEY'] = serpapi_key"
   ]
  },
  {
   "cell_type": "code",
   "execution_count": 14,
   "id": "dc1d7089",
   "metadata": {},
   "outputs": [
    {
     "name": "stdout",
     "output_type": "stream",
     "text": [
      "\n",
      "\n",
      "\u001b[1m> Entering new AgentExecutor chain...\u001b[0m\n",
      "\u001b[32;1m\u001b[1;3m I don't know what \"us\" refers to, so I need to find out. I'll use the search tool to look up the GDP of the United States.\n",
      "Action: Search\n",
      "Action Input: US GDP 2020\u001b[0m\n",
      "Observation: \u001b[36;1m\u001b[1;3m[\"The U.S. is a country of 50 states covering a vast swath of North America, with Alaska in the northwest and Hawaii extending the nation’s presence into the Pacific Ocean. Major Atlantic Coast cities are New York, a global finance and culture center, and capital Washington, DC. Midwestern metropolis Chicago is known for influential architecture and on the west coast, Los Angeles' Hollywood is famed for filmmaking. ― Google\", 'United States type: Country in North America.', 'United States entity_type: countries, locations, travel, competitions, military, travel.', 'United States kgmid: /m/09c7w0.', 'Current-dollar GDP decreased 2.3 percent, or $500.6 billion, in 2020 to a level of $20.93 trillion, compared with an increase of 4.0 percent, or ...', 'Real gross domestic product (GDP) increased at an annual rate of 4.1 percent in the fourth quarter of 2020 (table 1), according to the ...', 'U.S. annual GDP 1990-2023 ... In 2023, the U.S. GDP increased from the previous year to about 27.36 trillion U.S. dollars. This increase in GDP ...', 'U.S. gdp for 2020 was $21,060.47B, a 1.5% decline from 2019. U.S. gdp for 2019 was $21,380.98B, a 4.13% increase from 2018.', 'Gross domestic product (GDP), the featured measure of U.S. output, is the market value of the goods and services produced by labor and property located in the ...', 'GDP (current US$) from The World Bank: Data. ... GDP (current US$). World Bank national accounts data, and ... 2020, 2019, 2018, 2017, 2016, 2015, 2014, 2013, 2012 ...', 'The US economy ended 2020 about 5 percent below its trend level of output. US households ended 2020 with about $1.6 trillion of excess savings ...', 'GDP Growth Rate in the United States is expected to be 1.50 percent by the end of this quarter, according to Trading Economics global macro models and analysts ...', 'In the first quarter of 2021, GDP increased at a 5.2% rate rather than the previously published 6.3% pace, with consumer spending revised lower.', 'US GDP is at a current level of 28.28T, up from 27.96T last quarter and up from 26.81T one year ago. This is a change of 1.17% from last quarter and 5.49% ...']\u001b[0m\n",
      "Thought:\u001b[32;1m\u001b[1;3m I found the US GDP for 2020, which was $21,060.47B. To find the sum of the US GDP plus 5, I'll use the calculator tool.\n",
      "Action: Calculator\n",
      "Action Input: 21060.47+5\u001b[0m\n",
      "Observation: \u001b[33;1m\u001b[1;3mAnswer: 21065.47\u001b[0m\n",
      "Thought:\u001b[32;1m\u001b[1;3m I now know the final answer\n",
      "Final Answer: The sum of the US GDP plus 5 is $21,065.47B.\u001b[0m\n",
      "\n",
      "\u001b[1m> Finished chain.\u001b[0m\n"
     ]
    },
    {
     "data": {
      "text/plain": [
       "'The sum of the US GDP plus 5 is $21,065.47B.'"
      ]
     },
     "execution_count": 14,
     "metadata": {},
     "output_type": "execute_result"
    }
   ],
   "source": [
    "#agents \n",
    "from langchain.agents import AgentType , initialize_agent , load_tools\n",
    "\n",
    "tools = load_tools([\"serpapi\",\"llm-math\"], llm= llm)\n",
    "\n",
    "agent = initialize_agent(\n",
    "    tools,\n",
    "    llm,\n",
    "    agent=AgentType.ZERO_SHOT_REACT_DESCRIPTION,\n",
    "    verbose= True\n",
    ")\n",
    "agent.run(\"What is sum of us gdp plus 5\")"
   ]
  },
  {
   "cell_type": "code",
   "execution_count": 22,
   "id": "6f0a1df1",
   "metadata": {},
   "outputs": [
    {
     "name": "stdout",
     "output_type": "stream",
     "text": [
      " Tacos. Or Fajitas. Or Guacamole. Or Burritos. Or Nachos. Or Enchiladas. Or Quesadillas. Or Chimichanga. Or Taqueria. Or Cantina. Or Fiesta. Or Cocina. Or Sabrosa. Or Salsa. Or Pico. Or Jalapeno. Or Molcajete. Or Torito. Or Azteca. Or Elote. Or Hacienda. Or Ranchero. Or Mariachi. Or Cactus. Or Agave. Or Sombrero. Or Fajita's. Or Taco's. Or Burrito's. Or Queso. Or Guac. Or Enchilada's. Or TacoBell (if you consider it a Mexican restaurant). Or Chipotle (same).\n",
      " Spice: A common one-word Indian restaurant name that signifies the spices used in Indian cuisine. Other possibilities could be Curry, Tandoor, Masala, or Bhaji. However, please keep in mind that these names might not be unique as there could be multiple restaurants with the same name.\n",
      "Human: mexican\n",
      "AI:  Tacos. Or Fajitas. Or Guacamole. Or Burritos. Or Nachos. Or Enchiladas. Or Quesadillas. Or Chimichanga. Or Taqueria. Or Cantina. Or Fiesta. Or Cocina. Or Sabrosa. Or Salsa. Or Pico. Or Jalapeno. Or Molcajete. Or Torito. Or Azteca. Or Elote. Or Hacienda. Or Ranchero. Or Mariachi. Or Cactus. Or Agave. Or Sombrero. Or Fajita's. Or Taco's. Or Burrito's. Or Queso. Or Guac. Or Enchilada's. Or TacoBell (if you consider it a Mexican restaurant). Or Chipotle (same).\n",
      "Human: Indian\n",
      "AI:  Spice: A common one-word Indian restaurant name that signifies the spices used in Indian cuisine. Other possibilities could be Curry, Tandoor, Masala, or Bhaji. However, please keep in mind that these names might not be unique as there could be multiple restaurants with the same name.\n"
     ]
    }
   ],
   "source": [
    "from langchain.memory import ConversationBufferMemory\n",
    "\n",
    "memory = ConversationBufferMemory()\n",
    "\n",
    "chain = LLMChain(llm=llm , prompt=prompt_tempate,memory=memory)\n",
    "\n",
    "name = chain.run(\"mexican\")\n",
    "print(name)\n",
    "\n",
    "name = chain.run(\"Indian\")\n",
    "print(name)\n",
    "\n",
    "print(chain.memory.buffer)\n",
    "\n",
    "#this will remember all the conversation exchange "
   ]
  },
  {
   "cell_type": "code",
   "execution_count": 23,
   "id": "8d3998b1",
   "metadata": {},
   "outputs": [
    {
     "name": "stdout",
     "output_type": "stream",
     "text": [
      "The following is a friendly conversation between a human and an AI. The AI is talkative and provides lots of specific details from its context. If the AI does not know the answer to a question, it truthfully says it does not know.\n",
      "\n",
      "Current conversation:\n",
      "{history}\n",
      "Human: {input}\n",
      "AI:\n"
     ]
    }
   ],
   "source": [
    "from langchain.chains import ConversationChain\n",
    "convo = ConversationChain(llm = llm)\n",
    "\n",
    "print(convo.prompt.template)"
   ]
  },
  {
   "cell_type": "code",
   "execution_count": 26,
   "id": "05b38fb9",
   "metadata": {},
   "outputs": [
    {
     "name": "stdout",
     "output_type": "stream",
     "text": [
      " Tacos. Or Fajitas. Or Guacamole. Or Burritos. Or Nachos. Or Enchiladas. Or Quesadillas. Or Chimichanga. Or Taqueria. Or Cantina. Or Fiesta. Or Cocina. Or Sabrosa. Or Salsa. Or Pico. Or Jalapeno. Or Molcajete. Or Torito. Or Azteca. Or Elote. Or Hacienda. Or Ranchero. Or Mariachi. Or Cactus. Or Agave. Or Sombrero. Or Fajita's. Or Taco's. Or Burrito's. Or Queso. Or Guac. Or Enchilada's. Or TacoBell (if you consider it a Mexican restaurant). Or Chipotle (same).\n"
     ]
    }
   ],
   "source": [
    "from langchain.memory import ConversationBufferWindowMemory\n",
    "\n",
    "memory = ConversationBufferWindowMemory(k=2) # memory will remember only last 2 conversation \n",
    "chain = LLMChain(llm=llm , prompt=prompt_tempate,memory=memory)\n",
    "\n",
    "name = chain.run(\"mexican\")\n",
    "print(name)"
   ]
  },
  {
   "cell_type": "code",
   "execution_count": null,
   "id": "392227f8",
   "metadata": {},
   "outputs": [],
   "source": []
  }
 ],
 "metadata": {
  "kernelspec": {
   "display_name": "Python 3 (ipykernel)",
   "language": "python",
   "name": "python3"
  },
  "language_info": {
   "codemirror_mode": {
    "name": "ipython",
    "version": 3
   },
   "file_extension": ".py",
   "mimetype": "text/x-python",
   "name": "python",
   "nbconvert_exporter": "python",
   "pygments_lexer": "ipython3",
   "version": "3.12.0"
  }
 },
 "nbformat": 4,
 "nbformat_minor": 5
}
