{
 "cells": [
  {
   "cell_type": "code",
   "execution_count": 2,
   "id": "179c5a01",
   "metadata": {},
   "outputs": [],
   "source": [
    "from secret_key import huggingface_api_key\n",
    "huggingface_api_key = huggingface_api_key"
   ]
  },
  {
   "cell_type": "code",
   "execution_count": 3,
   "id": "d1ab352f",
   "metadata": {},
   "outputs": [
    {
     "name": "stdout",
     "output_type": "stream",
     "text": [
      "The token has not been saved to the git credentials helper. Pass `add_to_git_credential=True` in this function directly or `--add-to-git-credential` if using via `huggingface-cli` if you want to set the git credential as well.\n",
      "Token is valid (permission: read).\n",
      "Your token has been saved to C:\\Users\\kunalkushwahatg\\.cache\\huggingface\\token\n",
      "Login successful\n"
     ]
    }
   ],
   "source": [
    "#loading api from huggingface \n",
    "from langchain_community.llms import HuggingFaceEndpoint\n",
    "llm = HuggingFaceEndpoint(repo_id=\"mistralai/Mistral-7B-Instruct-v0.2\" , huggingfacehub_api_token=huggingface_api_key)"
   ]
  },
  {
   "cell_type": "code",
   "execution_count": 4,
   "id": "54f8e916",
   "metadata": {},
   "outputs": [
    {
     "name": "stdout",
     "output_type": "stream",
     "text": [
      "<s>[INST]suggest some Italian food restaurant name only in one word and one name[/INST] \n",
      " \n",
      "\n",
      " \"Pasta\" or \"Pizzeria\" could be suitable one-word Italian food restaurant names, as they are commonly associated with Italian cuisine. However, keep in mind that these names are quite generic and might not be unique. For a more distinct name, consider incorporating specific ingredients or dishes, such as \"Bruschetta,\" \"Caprese,\" or \"Prosciutto.\" \n",
      " \n",
      " \n"
     ]
    },
    {
     "name": "stderr",
     "output_type": "stream",
     "text": [
      "c:\\Users\\kunalkushwahatg\\AppData\\Local\\Programs\\Python\\Python312\\Lib\\site-packages\\langchain_core\\_api\\deprecation.py:119: LangChainDeprecationWarning: The class `LLMChain` was deprecated in LangChain 0.1.17 and will be removed in 0.3.0. Use RunnableSequence, e.g., `prompt | llm` instead.\n",
      "  warn_deprecated(\n",
      "c:\\Users\\kunalkushwahatg\\AppData\\Local\\Programs\\Python\\Python312\\Lib\\site-packages\\langchain_core\\_api\\deprecation.py:119: LangChainDeprecationWarning: The method `Chain.run` was deprecated in langchain 0.1.0 and will be removed in 0.3.0. Use invoke instead.\n",
      "  warn_deprecated(\n"
     ]
    },
    {
     "name": "stdout",
     "output_type": "stream",
     "text": [
      " 1. Taco: A simple and popular choice for a Mexican food restaurant name, suggesting tacos or Mexican street food in general.\n",
      "\n",
      "2. Fajita: This name suggests grilled meats and peppers, a staple in Mexican cuisine.\n",
      "\n",
      "3. Burrito: A name that immediately conjures up images of large, flavorful Mexican wraps filled with rice, beans, meats, and vegetables.\n",
      "\n",
      "4. Guacamole: This name highlights the popular Mexican avocado dip and suggests a focus on fresh, flavorful dishes.\n",
      "\n",
      "5. Quesadilla: Another popular Mexican dish, this name suggests a restaurant specializing in melted cheese-filled tortillas.\n",
      "\n",
      "6. Salsa: A name that could refer to the popular sauce, or to a lively and festive atmosphere, perfect for a Mexican restaurant.\n",
      "\n",
      "7. Margarita: A classic Mexican cocktail, this name could evoke a fun and festive atmosphere.\n",
      "\n",
      "8. Nacho: This name suggests a focus on the popular Mexican snack, and could also imply a casual, laid-back dining experience.\n",
      "\n",
      "9. Chili: A name that could refer to the popular Mexican dish made with chilies, or to a warm and inviting atmosphere.\n",
      "\n",
      "10. Tequila: A name that suggests a focus on Mexican spirits and a fun, lively atmosphere.\n"
     ]
    }
   ],
   "source": [
    "#prompt generation and running simple chain \n",
    "from langchain.prompts import PromptTemplate\n",
    "from langchain.chains import LLMChain\n",
    "\n",
    "prompt_tempate = PromptTemplate(\n",
    "    input_variables = ['cusines'],\n",
    "    template = \"<s>[INST]suggest some {cusines} food restaurant name only in one word and one name[/INST]\"\n",
    ")\n",
    "print(prompt_tempate.format(cusines = \"Italian\") , \"\\n \\n\")\n",
    "print(llm.invoke(prompt_tempate.format(cusines = \"Italian\")),\"\\n \\n \")\n",
    "chain = LLMChain(llm=llm , prompt=prompt_tempate)\n",
    "print(chain.run(\"mexican\"))"
   ]
  },
  {
   "cell_type": "code",
   "execution_count": 5,
   "id": "fe701e0b",
   "metadata": {},
   "outputs": [
    {
     "name": "stdout",
     "output_type": "stream",
     "text": [
      " \"Spice\" would be an excellent one-word Indian restaurant name that effectively conveys the essence of Indian cuisine. Indian dishes are renowned for their rich and complex flavors, which are primarily derived from a variety of spices. The name \"Spice\" encapsulates this fundamental aspect of Indian cooking, making it an evocative and fitting choice for an Indian restaurant.\n"
     ]
    }
   ],
   "source": [
    "#ruunning a simple chain \n",
    "''' this chai generates the final output is does not give any information about other chains\n",
    "it single input in one chain that is sequential \n",
    "'''\n",
    "\n",
    "\n",
    "from langchain.chains import LLMChain\n",
    "from langchain.chains import SimpleSequentialChain\n",
    "\n",
    "prompt_tempate_name = PromptTemplate(\n",
    "    input_variables = ['cusine'],\n",
    "    template = \"<s>[INST]suggest some {cusine} food restaurant name only in one word and one name[/INST]\"\n",
    ")\n",
    "\n",
    "prompt_tempate_items = PromptTemplate(\n",
    "    input_variables = ['restaurant_name'],\n",
    "    template = \"<s>[INST]suggest some {restaurant_name} food  name only in one word and one name[/INST]\"\n",
    ")\n",
    "\n",
    "name_chain = LLMChain(llm=llm , prompt=prompt_tempate_name)\n",
    "\n",
    "food_chain_items = LLMChain(llm=llm , prompt=prompt_tempate_items)\n",
    "\n",
    "chain = SimpleSequentialChain(chains = [name_chain,food_chain_items])\n",
    "print(chain.run(\"indian\"))"
   ]
  },
  {
   "cell_type": "code",
   "execution_count": 6,
   "id": "02c6e517",
   "metadata": {},
   "outputs": [
    {
     "name": "stderr",
     "output_type": "stream",
     "text": [
      "c:\\Users\\kunalkushwahatg\\AppData\\Local\\Programs\\Python\\Python312\\Lib\\site-packages\\langchain_core\\_api\\deprecation.py:119: LangChainDeprecationWarning: The method `Chain.__call__` was deprecated in langchain 0.1.0 and will be removed in 0.3.0. Use invoke instead.\n",
      "  warn_deprecated(\n"
     ]
    },
    {
     "name": "stdout",
     "output_type": "stream",
     "text": [
      "\n",
      "\n",
      "\u001b[1m> Entering new LLMChain chain...\u001b[0m\n",
      "Prompt after formatting:\n",
      "\u001b[32;1m\u001b[1;3m<s>[INST]suggest some Arabic food restaurant name only in 4 words[/INST]\u001b[0m\n",
      "\n",
      "\u001b[1m> Finished chain.\u001b[0m\n",
      "\n",
      "\n",
      "\u001b[1m> Entering new LLMChain chain...\u001b[0m\n",
      "Prompt after formatting:\n",
      "\u001b[32;1m\u001b[1;3m<s>[INST]suggest some  1. \"Desert Oasis\" (evokes the Arabian desert)\n",
      "2. \"Spice Bazaar\" (refers to Arabian markets known for spices)\n",
      "3. \"Saffron Mirage\" (saffron is a common Arabic spice, and mirage is reminiscent of Arabian deserts)\n",
      "4. \"Mint Tangerine\" (could represent Moroccan influence, as mint and tangerines are common in Middle Eastern cuisine)\n",
      "5. \"Date Grove\" (dates are a staple food in Arabic culture)\n",
      "6. \"Turquoise Table\" (the color turquoise is associated with Middle Eastern culture)\n",
      "7. \"Eggplant Alley\" (eggplant is a popular ingredient in Arabic dishes)\n",
      "8. \"Cinnamon Oasis\" (cinnamon is a common spice in Arabic cuisine)\n",
      "9. \"Pomegranate Nights\" (pomegranates are a symbol of abundance in Arabic culture)\n",
      "10. \"Golden Lantern\" (evokes the Middle Eastern marketplace atmosphere) food  name only in one word and one name[/INST]\u001b[0m\n",
      "\n",
      "\u001b[1m> Finished chain.\u001b[0m\n"
     ]
    },
    {
     "data": {
      "text/plain": [
       "{'cuisine': 'Arabic',\n",
       " 'number': '4',\n",
       " 'restaurant_name': ' 1. \"Desert Oasis\" (evokes the Arabian desert)\\n2. \"Spice Bazaar\" (refers to Arabian markets known for spices)\\n3. \"Saffron Mirage\" (saffron is a common Arabic spice, and mirage is reminiscent of Arabian deserts)\\n4. \"Mint Tangerine\" (could represent Moroccan influence, as mint and tangerines are common in Middle Eastern cuisine)\\n5. \"Date Grove\" (dates are a staple food in Arabic culture)\\n6. \"Turquoise Table\" (the color turquoise is associated with Middle Eastern culture)\\n7. \"Eggplant Alley\" (eggplant is a popular ingredient in Arabic dishes)\\n8. \"Cinnamon Oasis\" (cinnamon is a common spice in Arabic cuisine)\\n9. \"Pomegranate Nights\" (pomegranates are a symbol of abundance in Arabic culture)\\n10. \"Golden Lantern\" (evokes the Middle Eastern marketplace atmosphere)',\n",
       " 'menu_items': ' 1. Saffron\\n2. Spice\\n3. Mirage\\n4. Mint\\n5. Date\\n6. Turquoise\\n7. Eggplant\\n8. Cinnamon\\n9. Pomegranate\\n10. Lantern\\n\\nThese suggestions are single-word names that evoke the themes of the Arabian desert, Middle Eastern markets, and common ingredients in Arabic cuisine.'}"
      ]
     },
     "execution_count": 6,
     "metadata": {},
     "output_type": "execute_result"
    }
   ],
   "source": [
    "#sequential chains \n",
    "from langchain.chains import SequentialChain\n",
    "from langchain.chains import LLMChain\n",
    "\n",
    "prompt_tempate_name = PromptTemplate(\n",
    "    input_variables = ['cuisine',\"number\"],\n",
    "    template = \"<s>[INST]suggest some {cuisine} food restaurant name only in {number} words[/INST]\"\n",
    ")\n",
    "name_chain = LLMChain(llm=llm ,verbose=True, prompt=prompt_tempate_name ,output_key=\"restaurant_name\")\n",
    "\n",
    "prompt_tempate_items = PromptTemplate(\n",
    "    input_variables = ['restaurant_name'],\n",
    "    template = \"<s>[INST]suggest some {restaurant_name} food  name only in one word and one name[/INST]\"\n",
    ")\n",
    "\n",
    "food_chain_items = LLMChain(llm=llm , prompt=prompt_tempate_items,output_key=\"menu_items\",verbose=True)\n",
    "\n",
    "\n",
    "\n",
    "chain = SequentialChain(\n",
    "  chains = [name_chain, food_chain_items],\n",
    "  input_variables = ['cuisine','number'],\n",
    "  output_variables = ['restaurant_name', 'menu_items']\n",
    ")\n",
    "\n",
    "chain({'cuisine':'Arabic',\"number\":\"4\"}) #can pass multiple inputs here "
   ]
  },
  {
   "cell_type": "code",
   "execution_count": 7,
   "id": "ea8ef776",
   "metadata": {},
   "outputs": [
    {
     "name": "stderr",
     "output_type": "stream",
     "text": [
      "c:\\Users\\kunalkushwahatg\\AppData\\Local\\Programs\\Python\\Python312\\Lib\\site-packages\\langchain_core\\_api\\deprecation.py:119: LangChainDeprecationWarning: The function `initialize_agent` was deprecated in LangChain 0.1.0 and will be removed in 0.3.0. Use Use new agent constructor methods like create_react_agent, create_json_agent, create_structured_chat_agent, etc. instead.\n",
      "  warn_deprecated(\n"
     ]
    },
    {
     "name": "stdout",
     "output_type": "stream",
     "text": [
      "\n",
      "\n",
      "\u001b[1m> Entering new AgentExecutor chain...\u001b[0m\n",
      "\u001b[32;1m\u001b[1;3m I don't know Elon Musk's age, I should look it up on Wikipedia\n",
      "Action: wikipedia\n",
      "Action Input: Elon Musk age\u001b[0m\n",
      "Observation: \u001b[36;1m\u001b[1;3mPage: Acquisition of Twitter by Elon Musk\n",
      "Summary: Business magnate Elon Musk initiated an acquisition of American social media company Twitter, Inc. on April 14, 2022, and concluded it on October 28, 2022. Musk had begun buying shares of the company in January 2022, becoming its largest shareholder by April with a 9.1 percent ownership stake. Twitter invited Musk to join its board of directors, an offer he initially accepted before declining. On April 14, Musk made an unsolicited offer to purchase the company, to which Twitter's board responded with a \"poison pill\" strategy to resist a hostile takeover before unanimously accepting Musk's buyout offer of $44 billion on April 25. Musk stated that he planned to introduce new features to the platform, make its algorithms open-source, combat spambot accounts, and promote free speech.\n",
      "In July, Musk announced his intention to terminate the agreement, asserting that Twitter had breached their agreement by refusing to crack down on spambot accounts. The company filed a lawsuit against Musk in the Delaware Court of Chancery shortly thereafter, with a trial scheduled for the week of October 17. Weeks before the trial was set to begin, Musk reversed course, announcing that he would move forward with the acquisition. The deal was closed on October 28, with Musk immediately becoming Twitter's new owner and CEO. Twitter was taken private and merged into a new parent company named X Corp. Musk promptly fired several top executives, including previous CEO Parag Agrawal. Musk has since proposed several reforms to Twitter and laid off half of the company's workforce. Hundreds of employees then resigned from the company after Musk issued an ultimatum demanding they commit to \"extremely hardcore\" work. Linda Yaccarino was appointed CEO of X Corp. In July 2023, the Twitter service was rebranded as X.\n",
      "Reactions to the buyout were mixed, with praise for Musk's planned reforms and vision for the company, particularly his calls for greater free speech, but criticism over fears of a potential rise in misinformation and disinformation, harassment, and hate speech on the platform. Within the United States, conservatives have largely supported the acquisition, while many liberals and former Twitter employees have voiced concerns about Musk's intentions. Since becoming owner, Musk has faced backlash for his handling of the company and account suspensions, including the December 2022 suspensions of ten journalists.\n",
      "\n",
      "Page: Elon Musk\n",
      "Summary: Elon Reeve Musk ( EE-lon; born June 28, 1971) is a businessman and investor. He is the founder, chairman, CEO, and CTO of SpaceX; angel investor, CEO, product architect, and former chairman of Tesla, Inc.; owner, executive chairman, and CTO of X Corp.; founder of the Boring Company and xAI; co-founder of Neuralink and OpenAI; and president of the Musk Foundation. He is one of the wealthiest people in the world; as of April 2024, Forbes estimates his net worth to be $178 billion. \n",
      "A member of the wealthy South African Musk family, Musk was born in Pretoria and briefly attended the University of Pretoria before immigrating to Canada at age 18, acquiring citizenship through his Canadian-born mother. Two years later, he matriculated at Queen's University at Kingston in Canada. Musk later transferred to the University of Pennsylvania and received bachelor's degrees in economics and physics. He moved to California in 1995 to attend Stanford University, but dropped out after two days and, with his brother Kimbal, co-founded online city guide software company Zip2. The startup was acquired by Compaq for $307 million in 1999. That same year, Musk co-founded X.com, a direct bank. X.com merged with Confinity in 2000 to form PayPal. In October 2002, eBay acquired PayPal for $1.5 billion. Using $100 million of the money he made from the sale of PayPal, Musk founded SpaceX, a spaceflight services company, in 2002. \n",
      "In 2004, Musk became an early investor in electric vehicle manufacture\u001b[0m\n",
      "Thought:\u001b[32;1m\u001b[1;3m I now know Elon Musk's age, he is born on June 28, 1971\n",
      "Final Answer: Elon Musk was born on June 28, 1971.\u001b[0m\n",
      "\n",
      "\u001b[1m> Finished chain.\u001b[0m\n"
     ]
    },
    {
     "data": {
      "text/plain": [
       "'Elon Musk was born on June 28, 1971.'"
      ]
     },
     "execution_count": 7,
     "metadata": {},
     "output_type": "execute_result"
    }
   ],
   "source": [
    "#agents \n",
    "from langchain.agents import AgentType , initialize_agent , load_tools\n",
    "\n",
    "tools = load_tools([\"wikipedia\",\"llm-math\"], llm= llm)\n",
    "\n",
    "agent = initialize_agent(\n",
    "    tools,\n",
    "    llm,\n",
    "    agent=AgentType.ZERO_SHOT_REACT_DESCRIPTION,\n",
    "    verbose= True\n",
    ")\n",
    "agent.run(\"What is elon musk age\")"
   ]
  },
  {
   "cell_type": "code",
   "execution_count": 8,
   "id": "f6674526",
   "metadata": {},
   "outputs": [
    {
     "name": "stdout",
     "output_type": "stream",
     "text": [
      "\n",
      "\n",
      "\u001b[1m> Entering new AgentExecutor chain...\u001b[0m\n",
      "\u001b[32;1m\u001b[1;3m I need to find out who Dhoni is\n",
      "Action: wikipedia\n",
      "Action Input: MS Dhoni\u001b[0m\n",
      "Observation: \u001b[36;1m\u001b[1;3mPage: MS Dhoni\n",
      "Summary: Mahendra Singh Dhoni ( ; born 7 July 1981) is an Indian professional cricketer. He is a right handed batter and a wicket-keeper. Widely regarded as one of the most prolific wicket-keeper-batsmen and captains, he represented the Indian cricket team and was the captain of the side in limited-overs formats from 2007 to 2017 and in test cricket from 2008 to 2014. Dhoni has captained the most international matches and is the most successful Indian captain. He has led India to victory in the 2011 Cricket World Cup, the 2007 ICC World Twenty20 and the 2013 ICC Champions Trophy, the only captain to win three different limited overs tournaments. He also led the teams that won the Asia Cup in 2010, 2016 and was a member of the title winning squad in 2018.\n",
      "Born in Ranchi, Dhoni made his first class debut for Bihar in 1999. He made his debut for the Indian cricket team on 23 December 2004 in an ODI against Bangladesh and played his first test a year later against Sri Lanka. In 2007, he became the captain of the ODI side before taking over in all formats by 2008. Dhoni retired from test cricket in 2014, but continued playing in limited overs cricket till 2019. He has scored 17,266 runs in international cricket including 10,000 plus runs at an average of more than 50 in ODIs.\n",
      "In the Indian Premier League (IPL), Dhoni plays for Chennai Super Kings (CSK), leading them to the final on ten occasions and winning it five times (2010, 2011, 2018, 2021 and 2023). He has also led CSK to two Champions League T20 titles in 2010 and 2014. Dhoni is amongst the few batsmen to have scored more than five thousand runs in the IPL, as well as being the first wicket-keeper to do so.\n",
      "In 2008, Dhoni was awarded India's highest sport honor Major Dhyan Chand Khel Ratna Award by Government of India. He received the fourth highest civilian award Padma Shri in 2009 and third highest civilian award Padma Bhushan in 2018. Dhoni holds an honorary rank of Lieutenant Colonel in the Parachute Regiment of the Indian Territorial Army which was presented to him by the Indian Army in 2011. He is one of the most popular cricketers in the world.\n",
      "\n",
      "Page: M.S. Dhoni: The Untold Story\n",
      "Summary: M.S. Dhoni: The Untold Story is a 2016 Indian Hindi-language biographical sports drama film directed and co-written by Neeraj Pandey. It is based on the life of former Test, ODI and T20I captain of the Indian national cricket team, Mahendra Singh Dhoni. The film stars the late Sushant Singh Rajput as MS Dhoni, along with Disha Patani, Kiara Advani, and Anupam Kher. The film chronicles the life of Dhoni from a young age through a series of life events.\n",
      "The idea of the biopic was put forward by Dhoni's manager, Arun Pandey, after encountering an incident at an airport after the 2011 Cricket World Cup Final. Development began two years later, with the consent of Dhoni. Neeraj Pandey was later approached to helm the film while he was working on Baby. Pandey recruited a number of people for researching into Dhoni's background and his life events. Dhoni eventually became a consultant on the film.\n",
      "The film was released on 30 September 2016 by Fox Star Studios and received the widest release ever for a Bollywood film across 61 countries. In addition to being released in Hindi language, it was also dubbed in Tamil, Telugu, and Marathi languages, although the Marathi release was later cancelled due to opposition. Upon release, the film became a critical and commercial success. It is the fifth highest-grossing Bollywood film of 2016 and sixth highest grossing Indian film of 2016 worldwide ₹215.48 crore (US$27 million).\n",
      "\n",
      "Page: 2024 Indian Premier League\n",
      "Summary: The 2024 Indian Premier League  (also known as IPL 17 and branded as TATA IPL 2024) is the 17th edition of the Indian Premier League, a franchise Twenty20 cricket league in India, organized by the Board of Control for Cricket in India. The tournament features ten teams competing 74 matches from 22 March to 26 May 2024. It \u001b[0m\n",
      "Thought:\u001b[32;1m\u001b[1;3m I now know the final answer\n",
      "Final Answer: Mahendra Singh Dhoni is an Indian professional cricketer. He is a right handed batter and a wicket-keeper. He was the captain of the Indian cricket team in limited-overs formats from 2007 to 2017 and in test cricket from 2008 to 2014. He has led India to victory in the 2011 Cricket World Cup, the 2007 ICC World Twenty20 and the 2013 ICC Champions Trophy. He is the most successful Indian captain. He has played for Chennai Super Kings (CSK) in the Indian Premier League (IPL), leading them to the final on ten occasions and winning it five times (2010, 2011, 2018, 2021 and 2023). He has also led CSK to two Champions League T20 titles in 2010 and 2014. He has scored 17,266 runs in international cricket including 10,000 plus runs at an average of more than 50 in ODIs. He was awarded the Major Dhyan Chand Khel Ratna Award by the Government of India in 2008, the Padma Shri in 2009 and the Padma Bhushan in 2018. He holds an honorary rank of Lieutenant Colonel in the Parachute Regiment of the Indian Territorial Army. He is one of the most popular cricketers in the world.\u001b[0m\n",
      "\n",
      "\u001b[1m> Finished chain.\u001b[0m\n"
     ]
    },
    {
     "data": {
      "text/plain": [
       "'Mahendra Singh Dhoni is an Indian professional cricketer. He is a right handed batter and a wicket-keeper. He was the captain of the Indian cricket team in limited-overs formats from 2007 to 2017 and in test cricket from 2008 to 2014. He has led India to victory in the 2011 Cricket World Cup, the 2007 ICC World Twenty20 and the 2013 ICC Champions Trophy. He is the most successful Indian captain. He has played for Chennai Super Kings (CSK) in the Indian Premier League (IPL), leading them to the final on ten occasions and winning it five times (2010, 2011, 2018, 2021 and 2023). He has also led CSK to two Champions League T20 titles in 2010 and 2014. He has scored 17,266 runs in international cricket including 10,000 plus runs at an average of more than 50 in ODIs. He was awarded the Major Dhyan Chand Khel Ratna Award by the Government of India in 2008, the Padma Shri in 2009 and the Padma Bhushan in 2018. He holds an honorary rank of Lieutenant Colonel in the Parachute Regiment of the Indian Territorial Army. He is one of the most popular cricketers in the world.'"
      ]
     },
     "execution_count": 8,
     "metadata": {},
     "output_type": "execute_result"
    }
   ],
   "source": [
    "#agents \n",
    "from langchain.agents import AgentType , initialize_agent , load_tools\n",
    "\n",
    "tools = load_tools([\"wikipedia\",\"llm-math\"], llm= llm)\n",
    "\n",
    "agent = initialize_agent(\n",
    "    tools,\n",
    "    llm,\n",
    "    agent=AgentType.ZERO_SHOT_REACT_DESCRIPTION,\n",
    "    verbose= True\n",
    ")\n",
    "agent.run(\"who is dhoni\")"
   ]
  },
  {
   "cell_type": "code",
   "execution_count": 9,
   "id": "95cc0030",
   "metadata": {},
   "outputs": [],
   "source": [
    "#serp_api\n",
    "import os\n",
    "from secret_key import serpapi_key\n",
    "os.environ['SERPAPI_API_KEY'] = serpapi_key"
   ]
  },
  {
   "cell_type": "code",
   "execution_count": 10,
   "id": "dc1d7089",
   "metadata": {},
   "outputs": [
    {
     "name": "stdout",
     "output_type": "stream",
     "text": [
      "\n",
      "\n",
      "\u001b[1m> Entering new AgentExecutor chain...\u001b[0m\n",
      "\u001b[32;1m\u001b[1;3m The question seems to be asking for the sum of the current GDP of the US plus 5. However, I don't have the current US GDP readily available. I need to use a search engine to find that out.\n",
      "Action: Search\n",
      "Action Input: US GDP 2022\u001b[0m\n",
      "Observation: \u001b[36;1m\u001b[1;3m[\"The U.S. is a country of 50 states covering a vast swath of North America, with Alaska in the northwest and Hawaii extending the nation’s presence into the Pacific Ocean. Major Atlantic Coast cities are New York, a global finance and culture center, and capital Washington, DC. Midwestern metropolis Chicago is known for influential architecture and on the west coast, Los Angeles' Hollywood is famed for filmmaking. ― Google\", 'United States type: Country in North America.', 'United States entity_type: countries, locations, travel, competitions, military, travel.', 'United States kgmid: /m/09c7w0.', 'Current-dollar GDP increased 9.2 percent, or $2.15 trillion, in 2022 to a level of $25.46 trillion, compared with an increase of 10.7 percent, ...', 'Real gross domestic product (GDP) increased at an annual rate of 1.6 percent in the first quarter of 2024, according to the “advance” estimate.', 'The Gross Domestic Product (GDP) in the United States was worth 25439.70 billion US dollars in 2022, according to official data from the World Bank.', 'U.S. annual GDP 1990-2023 ... In 2023, the U.S. GDP increased from the previous year to about 27.36 trillion U.S. dollars. This increase in GDP ...', 'Economy of the United States ; Negative increase −$985.25 billion (2022) · Negative increase −3.93% of GDP (2022) · Negative increase $27 trillion (2023).', 'Measured from the fourth quarter of 2022 to the fourth quarter of 2023, real GDP increased 3.1 percent during the period compared with an ...', 'The US economy expanded an annualized 1.6% in Q1 2024, compared to 3.4% in the previous quarter and below forecasts of 2.5%. It was the lowest growth since the ...', 'Nominal (current) Gross Domestic Product (GDP) of the United States is $25,462,700,000,000 (USD) as of 2022. ... US$ over 2021, when Real GDP was ...', 'Virgin Islands (U.S.). 2021. 4,444.00. West Bank and Gaza. 2022. 19,111.90. Yemen, Rep. 2018. 21,606.16. Zambia. 2022. 29,163.78. Zimbabwe. 2022. 27,366.63.', 'U.S. gdp for 2022 was $25,439.70B, a 9.11% increase from 2021. U.S. gdp for 2021 was $23,315.08B, a 10.71% increase from 2020. U.S. gdp for 2020 was ...']\u001b[0m\n",
      "Thought:\u001b[32;1m\u001b[1;3m I found the US GDP for 2022 to be 25,439.70 billion dollars. Now I can add 5 to get the final answer.\n",
      "Action: Calculator\n",
      "Action Input: 25439.7+5\u001b[0m\n",
      "Observation: \u001b[33;1m\u001b[1;3mAnswer: 25444.7\u001b[0m\n",
      "Thought:\u001b[32;1m\u001b[1;3m I now know the final answer\n",
      "Final Answer: The sum of the US GDP in 2022 and 5 is 25,444.7 billion dollars.\u001b[0m\n",
      "\n",
      "\u001b[1m> Finished chain.\u001b[0m\n"
     ]
    },
    {
     "data": {
      "text/plain": [
       "'The sum of the US GDP in 2022 and 5 is 25,444.7 billion dollars.'"
      ]
     },
     "execution_count": 10,
     "metadata": {},
     "output_type": "execute_result"
    }
   ],
   "source": [
    "#agents \n",
    "from langchain.agents import AgentType , initialize_agent , load_tools\n",
    "\n",
    "tools = load_tools([\"serpapi\",\"llm-math\"], llm= llm)\n",
    "\n",
    "agent = initialize_agent(\n",
    "    tools,\n",
    "    llm,\n",
    "    agent=AgentType.ZERO_SHOT_REACT_DESCRIPTION,\n",
    "    verbose= True\n",
    ")\n",
    "agent.run(\"What is sum of us gdp plus 5\")"
   ]
  },
  {
   "cell_type": "code",
   "execution_count": 11,
   "id": "6f0a1df1",
   "metadata": {},
   "outputs": [
    {
     "name": "stdout",
     "output_type": "stream",
     "text": [
      " 1. Taco: A simple and popular choice for a Mexican food restaurant name, suggesting tacos or Mexican street food in general.\n",
      "\n",
      "2. Fajita: This name suggests grilled meats and peppers, a staple in Mexican cuisine.\n",
      "\n",
      "3. Burrito: A name that immediately conjures up images of large, flavorful Mexican wraps filled with rice, beans, meats, and vegetables.\n",
      "\n",
      "4. Guacamole: This name highlights the popular Mexican avocado dip and suggests a focus on fresh, flavorful dishes.\n",
      "\n",
      "5. Quesadilla: Another popular Mexican dish, this name suggests a restaurant specializing in melted cheese-filled tortillas.\n",
      "\n",
      "6. Salsa: A name that could refer to the popular sauce, or to a lively and festive atmosphere, perfect for a Mexican restaurant.\n",
      "\n",
      "7. Margarita: A classic Mexican cocktail, this name could evoke a fun and festive atmosphere.\n",
      "\n",
      "8. Nacho: This name suggests a focus on the popular Mexican snack, and could also imply a casual, laid-back dining experience.\n",
      "\n",
      "9. Chili: A name that could refer to the popular Mexican dish made with chilies, or to a warm and inviting atmosphere.\n",
      "\n",
      "10. Tequila: A name that suggests a focus on Mexican spirits and a fun, lively atmosphere.\n",
      " Spice: A one-word suggestion for an Indian food restaurant could be \"Spice,\" which conveys the idea of the various aromatic and flavorful spices used in Indian cuisine.\n",
      "Human: mexican\n",
      "AI:  1. Taco: A simple and popular choice for a Mexican food restaurant name, suggesting tacos or Mexican street food in general.\n",
      "\n",
      "2. Fajita: This name suggests grilled meats and peppers, a staple in Mexican cuisine.\n",
      "\n",
      "3. Burrito: A name that immediately conjures up images of large, flavorful Mexican wraps filled with rice, beans, meats, and vegetables.\n",
      "\n",
      "4. Guacamole: This name highlights the popular Mexican avocado dip and suggests a focus on fresh, flavorful dishes.\n",
      "\n",
      "5. Quesadilla: Another popular Mexican dish, this name suggests a restaurant specializing in melted cheese-filled tortillas.\n",
      "\n",
      "6. Salsa: A name that could refer to the popular sauce, or to a lively and festive atmosphere, perfect for a Mexican restaurant.\n",
      "\n",
      "7. Margarita: A classic Mexican cocktail, this name could evoke a fun and festive atmosphere.\n",
      "\n",
      "8. Nacho: This name suggests a focus on the popular Mexican snack, and could also imply a casual, laid-back dining experience.\n",
      "\n",
      "9. Chili: A name that could refer to the popular Mexican dish made with chilies, or to a warm and inviting atmosphere.\n",
      "\n",
      "10. Tequila: A name that suggests a focus on Mexican spirits and a fun, lively atmosphere.\n",
      "Human: Indian\n",
      "AI:  Spice: A one-word suggestion for an Indian food restaurant could be \"Spice,\" which conveys the idea of the various aromatic and flavorful spices used in Indian cuisine.\n"
     ]
    }
   ],
   "source": [
    "from langchain.memory import ConversationBufferMemory\n",
    "\n",
    "memory = ConversationBufferMemory()\n",
    "\n",
    "chain = LLMChain(llm=llm , prompt=prompt_tempate,memory=memory)\n",
    "\n",
    "name = chain.run(\"mexican\")\n",
    "print(name)\n",
    "\n",
    "name = chain.run(\"Indian\")\n",
    "print(name)\n",
    "\n",
    "print(chain.memory.buffer)\n",
    "\n",
    "#this will remember all the conversation exchange "
   ]
  },
  {
   "cell_type": "code",
   "execution_count": 12,
   "id": "8d3998b1",
   "metadata": {},
   "outputs": [
    {
     "name": "stdout",
     "output_type": "stream",
     "text": [
      "The following is a friendly conversation between a human and an AI. The AI is talkative and provides lots of specific details from its context. If the AI does not know the answer to a question, it truthfully says it does not know.\n",
      "\n",
      "Current conversation:\n",
      "{history}\n",
      "Human: {input}\n",
      "AI:\n"
     ]
    }
   ],
   "source": [
    "from langchain.chains import ConversationChain\n",
    "convo = ConversationChain(llm = llm)\n",
    "\n",
    "print(convo.prompt.template)"
   ]
  },
  {
   "cell_type": "code",
   "execution_count": 13,
   "id": "05b38fb9",
   "metadata": {},
   "outputs": [
    {
     "name": "stdout",
     "output_type": "stream",
     "text": [
      " 1. Taco: A simple and popular choice for a Mexican food restaurant name, suggesting tacos or Mexican street food in general.\n",
      "\n",
      "2. Fajita: This name suggests grilled meats and peppers, a staple in Mexican cuisine.\n",
      "\n",
      "3. Burrito: A name that immediately conjures up images of large, flavorful Mexican wraps filled with rice, beans, meats, and vegetables.\n",
      "\n",
      "4. Guacamole: This name highlights the popular Mexican avocado dip and suggests a focus on fresh, flavorful dishes.\n",
      "\n",
      "5. Quesadilla: Another popular Mexican dish, this name suggests a restaurant specializing in melted cheese-filled tortillas.\n",
      "\n",
      "6. Salsa: A name that could refer to the popular sauce, or to a lively and festive atmosphere, perfect for a Mexican restaurant.\n",
      "\n",
      "7. Margarita: A classic Mexican cocktail, this name could evoke a fun and festive atmosphere.\n",
      "\n",
      "8. Nacho: This name suggests a focus on the popular Mexican snack, and could also imply a casual, laid-back dining experience.\n",
      "\n",
      "9. Chili: A name that could refer to the popular Mexican dish made with chilies, or to a warm and inviting atmosphere.\n",
      "\n",
      "10. Tequila: A name that suggests a focus on Mexican spirits and a fun, lively atmosphere.\n"
     ]
    }
   ],
   "source": [
    "from langchain.memory import ConversationBufferWindowMemory\n",
    "\n",
    "memory = ConversationBufferWindowMemory(k=2) # memory will remember only last 2 conversation \n",
    "chain = LLMChain(llm=llm , prompt=prompt_tempate,memory=memory)\n",
    "\n",
    "name = chain.run(\"mexican\")\n",
    "print(name)"
   ]
  },
  {
   "cell_type": "code",
   "execution_count": null,
   "id": "392227f8",
   "metadata": {},
   "outputs": [],
   "source": []
  }
 ],
 "metadata": {
  "kernelspec": {
   "display_name": "Python 3 (ipykernel)",
   "language": "python",
   "name": "python3"
  },
  "language_info": {
   "codemirror_mode": {
    "name": "ipython",
    "version": 3
   },
   "file_extension": ".py",
   "mimetype": "text/x-python",
   "name": "python",
   "nbconvert_exporter": "python",
   "pygments_lexer": "ipython3",
   "version": "3.12.0"
  }
 },
 "nbformat": 4,
 "nbformat_minor": 5
}
